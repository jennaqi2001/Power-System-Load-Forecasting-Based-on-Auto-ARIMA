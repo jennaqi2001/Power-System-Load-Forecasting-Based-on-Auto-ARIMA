{
 "cells": [
  {
   "cell_type": "markdown",
   "metadata": {},
   "source": [
    "# Power System Load Forecasting Based on Auto-ARIMA\n",
    "## Introduction and background\n",
    "This is a dataset I got from my boss during my internship at Jingdong Technology. My group was responsible for providing energy companies with digitization solutions. I was fortunate to have CSPG(China Southern Power Grid) as a client and they agreed to provide me with desensitized data of a city's power system load from 2018 to 2021 on a daily baisis. \n",
    "My goal is to predict the power system goal based on the previous data for the next three months. Predicting future power load is essential is every aspect: power plants need to plan ahead how they run the plant units, while the power grid requires long-term predictions to guarantee elctricty supply for industries and civil use, and to expand or improve the power grid itself.\n",
    "Since the data I have is a pure time series, which means that with one variable changing through time, I will fit the ARIMA model."
   ]
  },
  {
   "cell_type": "code",
   "execution_count": 1,
   "metadata": {},
   "outputs": [],
   "source": [
    "import os\n",
    "\n",
    "import numpy as np\n",
    "import pandas as pd\n",
    "\n",
    "import seaborn as sns\n",
    "import matplotlib.pyplot as plt\n",
    "from colorama import Fore\n",
    "\n",
    "from sklearn.metrics import mean_absolute_error, mean_squared_error\n",
    "import math\n",
    "import statsmodels.api as sm\n",
    "import warnings  # Supress warnings\n",
    "warnings.filterwarnings('ignore')\n",
    "plt.rcParams['font.sans-serif'] = ['SimHei']  # 用来正常显示中文标签\n",
    "plt.rcParams['axes.unicode_minus'] = False  # 用来正常显示负号\n",
    "np.random.seed(7)\n"
   ]
  },
  {
   "cell_type": "code",
   "execution_count": 3,
   "metadata": {},
   "outputs": [
    {
     "ename": "FileNotFoundError",
     "evalue": "[Errno 2] No such file or directory: 'Power_Data.csv'",
     "output_type": "error",
     "traceback": [
      "\u001b[1;31m---------------------------------------------------------------------------\u001b[0m",
      "\u001b[1;31mFileNotFoundError\u001b[0m                         Traceback (most recent call last)",
      "\u001b[1;32m<ipython-input-3-ef90c2213511>\u001b[0m in \u001b[0;36m<module>\u001b[1;34m\u001b[0m\n\u001b[0;32m      1\u001b[0m \u001b[1;31m#data_path = os.path.join(os.getcwd(), \"Power_Data.csv\")\u001b[0m\u001b[1;33m\u001b[0m\u001b[1;33m\u001b[0m\u001b[1;33m\u001b[0m\u001b[0m\n\u001b[1;32m----> 2\u001b[1;33m \u001b[0mdf\u001b[0m \u001b[1;33m=\u001b[0m \u001b[0mpd\u001b[0m\u001b[1;33m.\u001b[0m\u001b[0mread_csv\u001b[0m\u001b[1;33m(\u001b[0m\u001b[1;34m\"Power_Data.csv\"\u001b[0m\u001b[1;33m,\u001b[0m \u001b[0mencoding\u001b[0m\u001b[1;33m=\u001b[0m\u001b[1;34m\"gbk\"\u001b[0m\u001b[1;33m)\u001b[0m\u001b[1;33m\u001b[0m\u001b[1;33m\u001b[0m\u001b[0m\n\u001b[0m\u001b[0;32m      3\u001b[0m \u001b[0mdf\u001b[0m\u001b[1;33m.\u001b[0m\u001b[0mhead\u001b[0m\u001b[1;33m(\u001b[0m\u001b[1;33m)\u001b[0m\u001b[1;33m\u001b[0m\u001b[1;33m\u001b[0m\u001b[0m\n",
      "\u001b[1;32mD:\\anaconda\\lib\\site-packages\\pandas\\io\\parsers.py\u001b[0m in \u001b[0;36mread_csv\u001b[1;34m(filepath_or_buffer, sep, delimiter, header, names, index_col, usecols, squeeze, prefix, mangle_dupe_cols, dtype, engine, converters, true_values, false_values, skipinitialspace, skiprows, skipfooter, nrows, na_values, keep_default_na, na_filter, verbose, skip_blank_lines, parse_dates, infer_datetime_format, keep_date_col, date_parser, dayfirst, cache_dates, iterator, chunksize, compression, thousands, decimal, lineterminator, quotechar, quoting, doublequote, escapechar, comment, encoding, dialect, error_bad_lines, warn_bad_lines, delim_whitespace, low_memory, memory_map, float_precision, storage_options)\u001b[0m\n\u001b[0;32m    608\u001b[0m     \u001b[0mkwds\u001b[0m\u001b[1;33m.\u001b[0m\u001b[0mupdate\u001b[0m\u001b[1;33m(\u001b[0m\u001b[0mkwds_defaults\u001b[0m\u001b[1;33m)\u001b[0m\u001b[1;33m\u001b[0m\u001b[1;33m\u001b[0m\u001b[0m\n\u001b[0;32m    609\u001b[0m \u001b[1;33m\u001b[0m\u001b[0m\n\u001b[1;32m--> 610\u001b[1;33m     \u001b[1;32mreturn\u001b[0m \u001b[0m_read\u001b[0m\u001b[1;33m(\u001b[0m\u001b[0mfilepath_or_buffer\u001b[0m\u001b[1;33m,\u001b[0m \u001b[0mkwds\u001b[0m\u001b[1;33m)\u001b[0m\u001b[1;33m\u001b[0m\u001b[1;33m\u001b[0m\u001b[0m\n\u001b[0m\u001b[0;32m    611\u001b[0m \u001b[1;33m\u001b[0m\u001b[0m\n\u001b[0;32m    612\u001b[0m \u001b[1;33m\u001b[0m\u001b[0m\n",
      "\u001b[1;32mD:\\anaconda\\lib\\site-packages\\pandas\\io\\parsers.py\u001b[0m in \u001b[0;36m_read\u001b[1;34m(filepath_or_buffer, kwds)\u001b[0m\n\u001b[0;32m    460\u001b[0m \u001b[1;33m\u001b[0m\u001b[0m\n\u001b[0;32m    461\u001b[0m     \u001b[1;31m# Create the parser.\u001b[0m\u001b[1;33m\u001b[0m\u001b[1;33m\u001b[0m\u001b[1;33m\u001b[0m\u001b[0m\n\u001b[1;32m--> 462\u001b[1;33m     \u001b[0mparser\u001b[0m \u001b[1;33m=\u001b[0m \u001b[0mTextFileReader\u001b[0m\u001b[1;33m(\u001b[0m\u001b[0mfilepath_or_buffer\u001b[0m\u001b[1;33m,\u001b[0m \u001b[1;33m**\u001b[0m\u001b[0mkwds\u001b[0m\u001b[1;33m)\u001b[0m\u001b[1;33m\u001b[0m\u001b[1;33m\u001b[0m\u001b[0m\n\u001b[0m\u001b[0;32m    463\u001b[0m \u001b[1;33m\u001b[0m\u001b[0m\n\u001b[0;32m    464\u001b[0m     \u001b[1;32mif\u001b[0m \u001b[0mchunksize\u001b[0m \u001b[1;32mor\u001b[0m \u001b[0miterator\u001b[0m\u001b[1;33m:\u001b[0m\u001b[1;33m\u001b[0m\u001b[1;33m\u001b[0m\u001b[0m\n",
      "\u001b[1;32mD:\\anaconda\\lib\\site-packages\\pandas\\io\\parsers.py\u001b[0m in \u001b[0;36m__init__\u001b[1;34m(self, f, engine, **kwds)\u001b[0m\n\u001b[0;32m    817\u001b[0m             \u001b[0mself\u001b[0m\u001b[1;33m.\u001b[0m\u001b[0moptions\u001b[0m\u001b[1;33m[\u001b[0m\u001b[1;34m\"has_index_names\"\u001b[0m\u001b[1;33m]\u001b[0m \u001b[1;33m=\u001b[0m \u001b[0mkwds\u001b[0m\u001b[1;33m[\u001b[0m\u001b[1;34m\"has_index_names\"\u001b[0m\u001b[1;33m]\u001b[0m\u001b[1;33m\u001b[0m\u001b[1;33m\u001b[0m\u001b[0m\n\u001b[0;32m    818\u001b[0m \u001b[1;33m\u001b[0m\u001b[0m\n\u001b[1;32m--> 819\u001b[1;33m         \u001b[0mself\u001b[0m\u001b[1;33m.\u001b[0m\u001b[0m_engine\u001b[0m \u001b[1;33m=\u001b[0m \u001b[0mself\u001b[0m\u001b[1;33m.\u001b[0m\u001b[0m_make_engine\u001b[0m\u001b[1;33m(\u001b[0m\u001b[0mself\u001b[0m\u001b[1;33m.\u001b[0m\u001b[0mengine\u001b[0m\u001b[1;33m)\u001b[0m\u001b[1;33m\u001b[0m\u001b[1;33m\u001b[0m\u001b[0m\n\u001b[0m\u001b[0;32m    820\u001b[0m \u001b[1;33m\u001b[0m\u001b[0m\n\u001b[0;32m    821\u001b[0m     \u001b[1;32mdef\u001b[0m \u001b[0mclose\u001b[0m\u001b[1;33m(\u001b[0m\u001b[0mself\u001b[0m\u001b[1;33m)\u001b[0m\u001b[1;33m:\u001b[0m\u001b[1;33m\u001b[0m\u001b[1;33m\u001b[0m\u001b[0m\n",
      "\u001b[1;32mD:\\anaconda\\lib\\site-packages\\pandas\\io\\parsers.py\u001b[0m in \u001b[0;36m_make_engine\u001b[1;34m(self, engine)\u001b[0m\n\u001b[0;32m   1048\u001b[0m             )\n\u001b[0;32m   1049\u001b[0m         \u001b[1;31m# error: Too many arguments for \"ParserBase\"\u001b[0m\u001b[1;33m\u001b[0m\u001b[1;33m\u001b[0m\u001b[1;33m\u001b[0m\u001b[0m\n\u001b[1;32m-> 1050\u001b[1;33m         \u001b[1;32mreturn\u001b[0m \u001b[0mmapping\u001b[0m\u001b[1;33m[\u001b[0m\u001b[0mengine\u001b[0m\u001b[1;33m]\u001b[0m\u001b[1;33m(\u001b[0m\u001b[0mself\u001b[0m\u001b[1;33m.\u001b[0m\u001b[0mf\u001b[0m\u001b[1;33m,\u001b[0m \u001b[1;33m**\u001b[0m\u001b[0mself\u001b[0m\u001b[1;33m.\u001b[0m\u001b[0moptions\u001b[0m\u001b[1;33m)\u001b[0m  \u001b[1;31m# type: ignore[call-arg]\u001b[0m\u001b[1;33m\u001b[0m\u001b[1;33m\u001b[0m\u001b[0m\n\u001b[0m\u001b[0;32m   1051\u001b[0m \u001b[1;33m\u001b[0m\u001b[0m\n\u001b[0;32m   1052\u001b[0m     \u001b[1;32mdef\u001b[0m \u001b[0m_failover_to_python\u001b[0m\u001b[1;33m(\u001b[0m\u001b[0mself\u001b[0m\u001b[1;33m)\u001b[0m\u001b[1;33m:\u001b[0m\u001b[1;33m\u001b[0m\u001b[1;33m\u001b[0m\u001b[0m\n",
      "\u001b[1;32mD:\\anaconda\\lib\\site-packages\\pandas\\io\\parsers.py\u001b[0m in \u001b[0;36m__init__\u001b[1;34m(self, src, **kwds)\u001b[0m\n\u001b[0;32m   1865\u001b[0m \u001b[1;33m\u001b[0m\u001b[0m\n\u001b[0;32m   1866\u001b[0m         \u001b[1;31m# open handles\u001b[0m\u001b[1;33m\u001b[0m\u001b[1;33m\u001b[0m\u001b[1;33m\u001b[0m\u001b[0m\n\u001b[1;32m-> 1867\u001b[1;33m         \u001b[0mself\u001b[0m\u001b[1;33m.\u001b[0m\u001b[0m_open_handles\u001b[0m\u001b[1;33m(\u001b[0m\u001b[0msrc\u001b[0m\u001b[1;33m,\u001b[0m \u001b[0mkwds\u001b[0m\u001b[1;33m)\u001b[0m\u001b[1;33m\u001b[0m\u001b[1;33m\u001b[0m\u001b[0m\n\u001b[0m\u001b[0;32m   1868\u001b[0m         \u001b[1;32massert\u001b[0m \u001b[0mself\u001b[0m\u001b[1;33m.\u001b[0m\u001b[0mhandles\u001b[0m \u001b[1;32mis\u001b[0m \u001b[1;32mnot\u001b[0m \u001b[1;32mNone\u001b[0m\u001b[1;33m\u001b[0m\u001b[1;33m\u001b[0m\u001b[0m\n\u001b[0;32m   1869\u001b[0m         \u001b[1;32mfor\u001b[0m \u001b[0mkey\u001b[0m \u001b[1;32min\u001b[0m \u001b[1;33m(\u001b[0m\u001b[1;34m\"storage_options\"\u001b[0m\u001b[1;33m,\u001b[0m \u001b[1;34m\"encoding\"\u001b[0m\u001b[1;33m,\u001b[0m \u001b[1;34m\"memory_map\"\u001b[0m\u001b[1;33m,\u001b[0m \u001b[1;34m\"compression\"\u001b[0m\u001b[1;33m)\u001b[0m\u001b[1;33m:\u001b[0m\u001b[1;33m\u001b[0m\u001b[1;33m\u001b[0m\u001b[0m\n",
      "\u001b[1;32mD:\\anaconda\\lib\\site-packages\\pandas\\io\\parsers.py\u001b[0m in \u001b[0;36m_open_handles\u001b[1;34m(self, src, kwds)\u001b[0m\n\u001b[0;32m   1360\u001b[0m         \u001b[0mLet\u001b[0m \u001b[0mthe\u001b[0m \u001b[0mreaders\u001b[0m \u001b[0mopen\u001b[0m \u001b[0mIOHanldes\u001b[0m \u001b[0mafter\u001b[0m \u001b[0mthey\u001b[0m \u001b[0mare\u001b[0m \u001b[0mdone\u001b[0m \u001b[1;32mwith\u001b[0m \u001b[0mtheir\u001b[0m \u001b[0mpotential\u001b[0m \u001b[0mraises\u001b[0m\u001b[1;33m.\u001b[0m\u001b[1;33m\u001b[0m\u001b[1;33m\u001b[0m\u001b[0m\n\u001b[0;32m   1361\u001b[0m         \"\"\"\n\u001b[1;32m-> 1362\u001b[1;33m         self.handles = get_handle(\n\u001b[0m\u001b[0;32m   1363\u001b[0m             \u001b[0msrc\u001b[0m\u001b[1;33m,\u001b[0m\u001b[1;33m\u001b[0m\u001b[1;33m\u001b[0m\u001b[0m\n\u001b[0;32m   1364\u001b[0m             \u001b[1;34m\"r\"\u001b[0m\u001b[1;33m,\u001b[0m\u001b[1;33m\u001b[0m\u001b[1;33m\u001b[0m\u001b[0m\n",
      "\u001b[1;32mD:\\anaconda\\lib\\site-packages\\pandas\\io\\common.py\u001b[0m in \u001b[0;36mget_handle\u001b[1;34m(path_or_buf, mode, encoding, compression, memory_map, is_text, errors, storage_options)\u001b[0m\n\u001b[0;32m    640\u001b[0m                 \u001b[0merrors\u001b[0m \u001b[1;33m=\u001b[0m \u001b[1;34m\"replace\"\u001b[0m\u001b[1;33m\u001b[0m\u001b[1;33m\u001b[0m\u001b[0m\n\u001b[0;32m    641\u001b[0m             \u001b[1;31m# Encoding\u001b[0m\u001b[1;33m\u001b[0m\u001b[1;33m\u001b[0m\u001b[1;33m\u001b[0m\u001b[0m\n\u001b[1;32m--> 642\u001b[1;33m             handle = open(\n\u001b[0m\u001b[0;32m    643\u001b[0m                 \u001b[0mhandle\u001b[0m\u001b[1;33m,\u001b[0m\u001b[1;33m\u001b[0m\u001b[1;33m\u001b[0m\u001b[0m\n\u001b[0;32m    644\u001b[0m                 \u001b[0mioargs\u001b[0m\u001b[1;33m.\u001b[0m\u001b[0mmode\u001b[0m\u001b[1;33m,\u001b[0m\u001b[1;33m\u001b[0m\u001b[1;33m\u001b[0m\u001b[0m\n",
      "\u001b[1;31mFileNotFoundError\u001b[0m: [Errno 2] No such file or directory: 'Power_Data.csv'"
     ]
    }
   ],
   "source": [
    "#data_path = os.path.join(os.getcwd(), \"Power_Data.csv\")\n",
    "df = pd.read_csv(\"Power_Data.csv\", encoding=\"gbk\")\n",
    "df.head()\n"
   ]
  },
  {
   "cell_type": "code",
   "execution_count": 3,
   "metadata": {},
   "outputs": [
    {
     "data": {
      "text/html": [
       "<div>\n",
       "<style scoped>\n",
       "    .dataframe tbody tr th:only-of-type {\n",
       "        vertical-align: middle;\n",
       "    }\n",
       "\n",
       "    .dataframe tbody tr th {\n",
       "        vertical-align: top;\n",
       "    }\n",
       "\n",
       "    .dataframe thead th {\n",
       "        text-align: right;\n",
       "    }\n",
       "</style>\n",
       "<table border=\"1\" class=\"dataframe\">\n",
       "  <thead>\n",
       "    <tr style=\"text-align: right;\">\n",
       "      <th></th>\n",
       "      <th>date</th>\n",
       "      <th>Total Active Power/kW</th>\n",
       "    </tr>\n",
       "  </thead>\n",
       "  <tbody>\n",
       "    <tr>\n",
       "      <th>0</th>\n",
       "      <td>2018/1/1 0:00</td>\n",
       "      <td>243785.6581</td>\n",
       "    </tr>\n",
       "    <tr>\n",
       "      <th>1</th>\n",
       "      <td>2018/1/2 0:00</td>\n",
       "      <td>232099.6895</td>\n",
       "    </tr>\n",
       "    <tr>\n",
       "      <th>2</th>\n",
       "      <td>2018/1/3 0:00</td>\n",
       "      <td>231957.6742</td>\n",
       "    </tr>\n",
       "    <tr>\n",
       "      <th>3</th>\n",
       "      <td>2018/1/4 0:00</td>\n",
       "      <td>227634.8928</td>\n",
       "    </tr>\n",
       "    <tr>\n",
       "      <th>4</th>\n",
       "      <td>2018/1/5 0:00</td>\n",
       "      <td>233586.9766</td>\n",
       "    </tr>\n",
       "    <tr>\n",
       "      <th>...</th>\n",
       "      <td>...</td>\n",
       "      <td>...</td>\n",
       "    </tr>\n",
       "    <tr>\n",
       "      <th>1431</th>\n",
       "      <td>2021/12/2 0:00</td>\n",
       "      <td>441228.1877</td>\n",
       "    </tr>\n",
       "    <tr>\n",
       "      <th>1432</th>\n",
       "      <td>2021/12/3 0:00</td>\n",
       "      <td>438360.3205</td>\n",
       "    </tr>\n",
       "    <tr>\n",
       "      <th>1433</th>\n",
       "      <td>2021/12/4 0:00</td>\n",
       "      <td>430629.5873</td>\n",
       "    </tr>\n",
       "    <tr>\n",
       "      <th>1434</th>\n",
       "      <td>2021/12/5 0:00</td>\n",
       "      <td>425929.3018</td>\n",
       "    </tr>\n",
       "    <tr>\n",
       "      <th>1435</th>\n",
       "      <td>2021/12/6 0:00</td>\n",
       "      <td>423630.7373</td>\n",
       "    </tr>\n",
       "  </tbody>\n",
       "</table>\n",
       "<p>1436 rows × 2 columns</p>\n",
       "</div>"
      ],
      "text/plain": [
       "                date  Total Active Power/kW\n",
       "0      2018/1/1 0:00            243785.6581\n",
       "1      2018/1/2 0:00            232099.6895\n",
       "2      2018/1/3 0:00            231957.6742\n",
       "3      2018/1/4 0:00            227634.8928\n",
       "4      2018/1/5 0:00            233586.9766\n",
       "...              ...                    ...\n",
       "1431  2021/12/2 0:00            441228.1877\n",
       "1432  2021/12/3 0:00            438360.3205\n",
       "1433  2021/12/4 0:00            430629.5873\n",
       "1434  2021/12/5 0:00            425929.3018\n",
       "1435  2021/12/6 0:00            423630.7373\n",
       "\n",
       "[1436 rows x 2 columns]"
      ]
     },
     "execution_count": 3,
     "metadata": {},
     "output_type": "execute_result"
    }
   ],
   "source": [
    "df  = df.rename(columns={'日期':'date'})\n",
    "df"
   ]
  },
  {
   "cell_type": "markdown",
   "metadata": {},
   "source": [
    "# Formats"
   ]
  },
  {
   "cell_type": "markdown",
   "metadata": {},
   "source": [
    "Before we begin any exploration, we should first use datetime to change the format of date to datetime. It seems that the space between two entries is exactly one day."
   ]
  },
  {
   "cell_type": "code",
   "execution_count": 4,
   "metadata": {},
   "outputs": [
    {
     "data": {
      "text/html": [
       "<style type=\"text/css\">\n",
       "#T_c1c96_row0_col0, #T_c1c96_row1_col0, #T_c1c96_row2_col0, #T_c1c96_row3_col0, #T_c1c96_row4_col0 {\n",
       "  background-color: dodgerblue;\n",
       "}\n",
       "</style>\n",
       "<table id=\"T_c1c96_\">\n",
       "  <thead>\n",
       "    <tr>\n",
       "      <th class=\"blank level0\" >&nbsp;</th>\n",
       "      <th class=\"col_heading level0 col0\" >date</th>\n",
       "      <th class=\"col_heading level0 col1\" >Total Active Power/kW</th>\n",
       "    </tr>\n",
       "  </thead>\n",
       "  <tbody>\n",
       "    <tr>\n",
       "      <th id=\"T_c1c96_level0_row0\" class=\"row_heading level0 row0\" >0</th>\n",
       "      <td id=\"T_c1c96_row0_col0\" class=\"data row0 col0\" >2018-01-01 00:00:00</td>\n",
       "      <td id=\"T_c1c96_row0_col1\" class=\"data row0 col1\" >243785.658100</td>\n",
       "    </tr>\n",
       "    <tr>\n",
       "      <th id=\"T_c1c96_level0_row1\" class=\"row_heading level0 row1\" >1</th>\n",
       "      <td id=\"T_c1c96_row1_col0\" class=\"data row1 col0\" >2018-01-02 00:00:00</td>\n",
       "      <td id=\"T_c1c96_row1_col1\" class=\"data row1 col1\" >232099.689500</td>\n",
       "    </tr>\n",
       "    <tr>\n",
       "      <th id=\"T_c1c96_level0_row2\" class=\"row_heading level0 row2\" >2</th>\n",
       "      <td id=\"T_c1c96_row2_col0\" class=\"data row2 col0\" >2018-01-03 00:00:00</td>\n",
       "      <td id=\"T_c1c96_row2_col1\" class=\"data row2 col1\" >231957.674200</td>\n",
       "    </tr>\n",
       "    <tr>\n",
       "      <th id=\"T_c1c96_level0_row3\" class=\"row_heading level0 row3\" >3</th>\n",
       "      <td id=\"T_c1c96_row3_col0\" class=\"data row3 col0\" >2018-01-04 00:00:00</td>\n",
       "      <td id=\"T_c1c96_row3_col1\" class=\"data row3 col1\" >227634.892800</td>\n",
       "    </tr>\n",
       "    <tr>\n",
       "      <th id=\"T_c1c96_level0_row4\" class=\"row_heading level0 row4\" >4</th>\n",
       "      <td id=\"T_c1c96_row4_col0\" class=\"data row4 col0\" >2018-01-05 00:00:00</td>\n",
       "      <td id=\"T_c1c96_row4_col1\" class=\"data row4 col1\" >233586.976600</td>\n",
       "    </tr>\n",
       "  </tbody>\n",
       "</table>\n"
      ],
      "text/plain": [
       "<pandas.io.formats.style.Styler at 0x1dc255aa470>"
      ]
     },
     "execution_count": 4,
     "metadata": {},
     "output_type": "execute_result"
    }
   ],
   "source": [
    "#change format\n",
    "from datetime import datetime, date \n",
    "\n",
    "df['date'] = pd.to_datetime(df['date'])\n",
    "df.head().style.set_properties(subset=['date'], **{'background-color': 'dodgerblue'})"
   ]
  },
  {
   "cell_type": "code",
   "execution_count": 5,
   "metadata": {},
   "outputs": [
    {
     "data": {
      "text/plain": [
       "\"\\nf, ax = plt.subplots(nrows=7, ncols=1, figsize=(15, 25))\\n#图片间距可以调\\n\\nfor i, column in enumerate(df.drop('date', axis=1).columns):\\n    sns.lineplot(x=df['date'], y=df[column].fillna(method='ffill'), ax=ax[i], color='dodgerblue')\\n    ax[i].set_title('Feature: {}'.format(column), fontsize=14)\\n    ax[i].set_ylabel(ylabel=column, fontsize=14)\\n                      \\n    ax[i].set_xlim([date(2018, 1, 1), date(2021, 12, 6)])   \\n\""
      ]
     },
     "execution_count": 5,
     "metadata": {},
     "output_type": "execute_result"
    }
   ],
   "source": [
    "# To compelte the data, as naive method, we will use fill\n",
    "'''\n",
    "f, ax = plt.subplots(nrows=7, ncols=1, figsize=(15, 25))\n",
    "\n",
    "for i, column in enumerate(df.drop('date', axis=1).columns):\n",
    "    sns.lineplot(x=df['date'], y=df[column].fillna(method='ffill'), ax=ax[i], color='dodgerblue')\n",
    "    ax[i].set_title('Feature: {}'.format(column), fontsize=14)\n",
    "    ax[i].set_ylabel(ylabel=column, fontsize=14)\n",
    "                      \n",
    "    ax[i].set_xlim([date(2018, 1, 1), date(2021, 12, 6)])   \n",
    "'''"
   ]
  },
  {
   "cell_type": "code",
   "execution_count": 6,
   "metadata": {},
   "outputs": [
    {
     "data": {
      "text/html": [
       "<div>\n",
       "<style scoped>\n",
       "    .dataframe tbody tr th:only-of-type {\n",
       "        vertical-align: middle;\n",
       "    }\n",
       "\n",
       "    .dataframe tbody tr th {\n",
       "        vertical-align: top;\n",
       "    }\n",
       "\n",
       "    .dataframe thead th {\n",
       "        text-align: right;\n",
       "    }\n",
       "</style>\n",
       "<table border=\"1\" class=\"dataframe\">\n",
       "  <thead>\n",
       "    <tr style=\"text-align: right;\">\n",
       "      <th></th>\n",
       "      <th>date</th>\n",
       "      <th>delta</th>\n",
       "    </tr>\n",
       "  </thead>\n",
       "  <tbody>\n",
       "    <tr>\n",
       "      <th>0</th>\n",
       "      <td>2018-01-01</td>\n",
       "      <td>NaT</td>\n",
       "    </tr>\n",
       "    <tr>\n",
       "      <th>1</th>\n",
       "      <td>2018-01-02</td>\n",
       "      <td>1 days</td>\n",
       "    </tr>\n",
       "    <tr>\n",
       "      <th>2</th>\n",
       "      <td>2018-01-03</td>\n",
       "      <td>1 days</td>\n",
       "    </tr>\n",
       "    <tr>\n",
       "      <th>3</th>\n",
       "      <td>2018-01-04</td>\n",
       "      <td>1 days</td>\n",
       "    </tr>\n",
       "    <tr>\n",
       "      <th>4</th>\n",
       "      <td>2018-01-05</td>\n",
       "      <td>1 days</td>\n",
       "    </tr>\n",
       "  </tbody>\n",
       "</table>\n",
       "</div>"
      ],
      "text/plain": [
       "        date  delta\n",
       "0 2018-01-01    NaT\n",
       "1 2018-01-02 1 days\n",
       "2 2018-01-03 1 days\n",
       "3 2018-01-04 1 days\n",
       "4 2018-01-05 1 days"
      ]
     },
     "execution_count": 6,
     "metadata": {},
     "output_type": "execute_result"
    }
   ],
   "source": [
    "df = df.sort_values(by='date')\n",
    "# Check time intervals\n",
    "df['delta'] = df['date'] - df['date'].shift(1)\n",
    "df[['date', 'delta']].head()"
   ]
  },
  {
   "cell_type": "code",
   "execution_count": 7,
   "metadata": {},
   "outputs": [
    {
     "data": {
      "text/plain": [
       "(Timedelta('1435 days 00:00:00'), 1435)"
      ]
     },
     "execution_count": 7,
     "metadata": {},
     "output_type": "execute_result"
    }
   ],
   "source": [
    "df['delta'].sum(), df['delta'].count()"
   ]
  },
  {
   "cell_type": "code",
   "execution_count": 8,
   "metadata": {},
   "outputs": [
    {
     "data": {
      "text/plain": [
       "date                      0\n",
       "Total Active Power/kW    54\n",
       "dtype: int64"
      ]
     },
     "execution_count": 8,
     "metadata": {},
     "output_type": "execute_result"
    }
   ],
   "source": [
    "df = df.drop('delta', axis=1)\n",
    "df.isna().sum()"
   ]
  },
  {
   "cell_type": "markdown",
   "metadata": {},
   "source": [
    "# Missing values\n",
    "We will check if there's any missing values and the missing ones will be shown in red."
   ]
  },
  {
   "cell_type": "code",
   "execution_count": 9,
   "metadata": {},
   "outputs": [
    {
     "data": {
      "text/plain": [
       "<matplotlib.axes._subplots.AxesSubplot at 0x1dc37d366d8>"
      ]
     },
     "execution_count": 9,
     "metadata": {},
     "output_type": "execute_result"
    },
    {
     "data": {
      "image/png": "[encoded data removed]",
      "text/plain": [
       "<Figure size 1080x360 with 1 Axes>"
      ]
     },
     "metadata": {
      "needs_background": "light"
     },
     "output_type": "display_data"
    }
   ],
   "source": [
    "#Let's see if there's any missing values; they will be lined in red\n",
    "f, ax = plt.subplots(nrows=1, ncols=1,figsize=(15, 5))\n",
    "df['Total Active Power with Replacement'] = df['Total Active Power/kW'].replace(np.nan, 180000)\n",
    "#df['Total Active Power with Replacement'] \n",
    "#ol = df[df['Total Active Power with Replacement']==180000]['Total Active Power with Replacement']\n",
    "#ol\n",
    "sns.lineplot(x=df['date'], y=df['Total Active Power with Replacement'], color='red', label='missing')\n",
    "sns.lineplot(x=df['date'], y=df['Total Active Power/kW'].fillna(np.inf), color='dodgerblue', label='original')\n",
    "\n",
    "#ax.set_title('Feature: 总有功功率（kw）', fontsize=14)\n",
    "#sns.set_ylabel(ylabel='总有功功率（kw）', fontsize=14)\n",
    "#sns.set_xlim([date(2018, 1, 1), date(2021, 12, 6)])"
   ]
  },
  {
   "cell_type": "code",
   "execution_count": 10,
   "metadata": {},
   "outputs": [
    {
     "data": {
      "text/plain": [
       "\"\\nf, ax = plt.subplots(nrows=2, ncols=1, figsize=(15, 10))\\no = df['最高温度'].copy()\\ndf['最高温度'] = df['最高温度'].replace(0, np.nan)\\nsns.lineplot(x=df['date'], y=o, ax=ax[1], color='darkorange', label='original')\\nsns.lineplot(x=df['date'], y=df['最高温度'].fillna(np.inf), ax=ax[1], color='dodgerblue', label='modified')\\nax[1].set_title('Feature: 最高温度', fontsize=14)\\nax[1].set_ylabel(ylabel='最高温度', fontsize=14)\\nax[1].set_xlim([date(2018, 1, 1), date(2018, 1, 15)])\\n\""
      ]
     },
     "execution_count": 10,
     "metadata": {},
     "output_type": "execute_result"
    }
   ],
   "source": [
    "'''\n",
    "f, ax = plt.subplots(nrows=2, ncols=1, figsize=(15, 10))\n",
    "o = df['最高温度'].copy()\n",
    "df['最高温度'] = df['最高温度'].replace(0, np.nan)\n",
    "sns.lineplot(x=df['date'], y=o, ax=ax[1], color='darkorange', label='original')\n",
    "sns.lineplot(x=df['date'], y=df['最高温度'].fillna(np.inf), ax=ax[1], color='dodgerblue', label='modified')\n",
    "ax[1].set_title('Feature: 最高温度', fontsize=14)\n",
    "ax[1].set_ylabel(ylabel='最高温度', fontsize=14)\n",
    "ax[1].set_xlim([date(2018, 1, 1), date(2018, 1, 15)])\n",
    "'''"
   ]
  },
  {
   "cell_type": "code",
   "execution_count": 11,
   "metadata": {},
   "outputs": [],
   "source": [
    "# 缺失值处理(多种填充方式)"
   ]
  },
  {
   "cell_type": "code",
   "execution_count": 12,
   "metadata": {},
   "outputs": [
    {
     "ename": "KeyError",
     "evalue": "'Total Active Power/kW）'",
     "output_type": "error",
     "traceback": [
      "\u001b[1;31m---------------------------------------------------------------------------\u001b[0m",
      "\u001b[1;31mKeyError\u001b[0m                                  Traceback (most recent call last)",
      "\u001b[1;32m~\\AppData\\Local\\Programs\\Python\\Python37\\lib\\site-packages\\pandas\\core\\indexes\\base.py\u001b[0m in \u001b[0;36mget_loc\u001b[1;34m(self, key, method, tolerance)\u001b[0m\n\u001b[0;32m   3360\u001b[0m             \u001b[1;32mtry\u001b[0m\u001b[1;33m:\u001b[0m\u001b[1;33m\u001b[0m\u001b[1;33m\u001b[0m\u001b[0m\n\u001b[1;32m-> 3361\u001b[1;33m                 \u001b[1;32mreturn\u001b[0m \u001b[0mself\u001b[0m\u001b[1;33m.\u001b[0m\u001b[0m_engine\u001b[0m\u001b[1;33m.\u001b[0m\u001b[0mget_loc\u001b[0m\u001b[1;33m(\u001b[0m\u001b[0mcasted_key\u001b[0m\u001b[1;33m)\u001b[0m\u001b[1;33m\u001b[0m\u001b[1;33m\u001b[0m\u001b[0m\n\u001b[0m\u001b[0;32m   3362\u001b[0m             \u001b[1;32mexcept\u001b[0m \u001b[0mKeyError\u001b[0m \u001b[1;32mas\u001b[0m \u001b[0merr\u001b[0m\u001b[1;33m:\u001b[0m\u001b[1;33m\u001b[0m\u001b[1;33m\u001b[0m\u001b[0m\n",
      "\u001b[1;32m~\\AppData\\Local\\Programs\\Python\\Python37\\lib\\site-packages\\pandas\\_libs\\index.pyx\u001b[0m in \u001b[0;36mpandas._libs.index.IndexEngine.get_loc\u001b[1;34m()\u001b[0m\n",
      "\u001b[1;32m~\\AppData\\Local\\Programs\\Python\\Python37\\lib\\site-packages\\pandas\\_libs\\index.pyx\u001b[0m in \u001b[0;36mpandas._libs.index.IndexEngine.get_loc\u001b[1;34m()\u001b[0m\n",
      "\u001b[1;32mpandas\\_libs\\hashtable_class_helper.pxi\u001b[0m in \u001b[0;36mpandas._libs.hashtable.PyObjectHashTable.get_item\u001b[1;34m()\u001b[0m\n",
      "\u001b[1;32mpandas\\_libs\\hashtable_class_helper.pxi\u001b[0m in \u001b[0;36mpandas._libs.hashtable.PyObjectHashTable.get_item\u001b[1;34m()\u001b[0m\n",
      "\u001b[1;31mKeyError\u001b[0m: 'Total Active Power/kW）'",
      "\nThe above exception was the direct cause of the following exception:\n",
      "\u001b[1;31mKeyError\u001b[0m                                  Traceback (most recent call last)",
      "\u001b[1;32m~\\AppData\\Local\\Temp\\ipykernel_14320\\2588907401.py\u001b[0m in \u001b[0;36m<module>\u001b[1;34m\u001b[0m\n\u001b[0;32m      3\u001b[0m \u001b[1;33m\u001b[0m\u001b[0m\n\u001b[0;32m      4\u001b[0m \u001b[0msns\u001b[0m\u001b[1;33m.\u001b[0m\u001b[0mlineplot\u001b[0m\u001b[1;33m(\u001b[0m\u001b[0mx\u001b[0m\u001b[1;33m=\u001b[0m\u001b[0mdf\u001b[0m\u001b[1;33m[\u001b[0m\u001b[1;34m'date'\u001b[0m\u001b[1;33m]\u001b[0m\u001b[1;33m,\u001b[0m \u001b[0my\u001b[0m\u001b[1;33m=\u001b[0m\u001b[0mdf\u001b[0m\u001b[1;33m[\u001b[0m\u001b[1;34m'Total Active Power/kW'\u001b[0m\u001b[1;33m]\u001b[0m\u001b[1;33m,\u001b[0m \u001b[0max\u001b[0m\u001b[1;33m=\u001b[0m\u001b[0max\u001b[0m\u001b[1;33m[\u001b[0m\u001b[1;36m0\u001b[0m\u001b[1;33m]\u001b[0m\u001b[1;33m)\u001b[0m\u001b[1;33m\u001b[0m\u001b[1;33m\u001b[0m\u001b[0m\n\u001b[1;32m----> 5\u001b[1;33m \u001b[0msns\u001b[0m\u001b[1;33m.\u001b[0m\u001b[0mlineplot\u001b[0m\u001b[1;33m(\u001b[0m\u001b[0mx\u001b[0m\u001b[1;33m=\u001b[0m\u001b[0mdf\u001b[0m\u001b[1;33m[\u001b[0m\u001b[1;34m'date'\u001b[0m\u001b[1;33m]\u001b[0m\u001b[1;33m,\u001b[0m \u001b[0my\u001b[0m\u001b[1;33m=\u001b[0m\u001b[0mdf\u001b[0m\u001b[1;33m[\u001b[0m\u001b[1;34m'Total Active Power/kW）'\u001b[0m\u001b[1;33m]\u001b[0m\u001b[1;33m.\u001b[0m\u001b[0mfillna\u001b[0m\u001b[1;33m(\u001b[0m\u001b[0mnp\u001b[0m\u001b[1;33m.\u001b[0m\u001b[0minf\u001b[0m\u001b[1;33m)\u001b[0m\u001b[1;33m,\u001b[0m \u001b[0max\u001b[0m\u001b[1;33m=\u001b[0m\u001b[0max\u001b[0m\u001b[1;33m[\u001b[0m\u001b[1;36m0\u001b[0m\u001b[1;33m]\u001b[0m\u001b[1;33m,\u001b[0m \u001b[0mcolor\u001b[0m\u001b[1;33m=\u001b[0m\u001b[1;34m'dodgerblue'\u001b[0m\u001b[1;33m,\u001b[0m \u001b[0mlabel\u001b[0m \u001b[1;33m=\u001b[0m \u001b[1;34m'original'\u001b[0m\u001b[1;33m)\u001b[0m\u001b[1;33m\u001b[0m\u001b[1;33m\u001b[0m\u001b[0m\n\u001b[0m\u001b[0;32m      6\u001b[0m \u001b[0max\u001b[0m\u001b[1;33m[\u001b[0m\u001b[1;36m0\u001b[0m\u001b[1;33m]\u001b[0m\u001b[1;33m.\u001b[0m\u001b[0mset_title\u001b[0m\u001b[1;33m(\u001b[0m\u001b[1;34m'Fill NaN with 0'\u001b[0m\u001b[1;33m,\u001b[0m \u001b[0mfontsize\u001b[0m\u001b[1;33m=\u001b[0m\u001b[1;36m14\u001b[0m\u001b[1;33m)\u001b[0m\u001b[1;33m\u001b[0m\u001b[1;33m\u001b[0m\u001b[0m\n\u001b[0;32m      7\u001b[0m \u001b[0max\u001b[0m\u001b[1;33m[\u001b[0m\u001b[1;36m0\u001b[0m\u001b[1;33m]\u001b[0m\u001b[1;33m.\u001b[0m\u001b[0mset_ylabel\u001b[0m\u001b[1;33m(\u001b[0m\u001b[0mylabel\u001b[0m\u001b[1;33m=\u001b[0m\u001b[1;34m'Volume'\u001b[0m\u001b[1;33m,\u001b[0m \u001b[0mfontsize\u001b[0m\u001b[1;33m=\u001b[0m\u001b[1;36m14\u001b[0m\u001b[1;33m)\u001b[0m\u001b[1;33m\u001b[0m\u001b[1;33m\u001b[0m\u001b[0m\n",
      "\u001b[1;32m~\\AppData\\Local\\Programs\\Python\\Python37\\lib\\site-packages\\pandas\\core\\frame.py\u001b[0m in \u001b[0;36m__getitem__\u001b[1;34m(self, key)\u001b[0m\n\u001b[0;32m   3456\u001b[0m             \u001b[1;32mif\u001b[0m \u001b[0mself\u001b[0m\u001b[1;33m.\u001b[0m\u001b[0mcolumns\u001b[0m\u001b[1;33m.\u001b[0m\u001b[0mnlevels\u001b[0m \u001b[1;33m>\u001b[0m \u001b[1;36m1\u001b[0m\u001b[1;33m:\u001b[0m\u001b[1;33m\u001b[0m\u001b[1;33m\u001b[0m\u001b[0m\n\u001b[0;32m   3457\u001b[0m                 \u001b[1;32mreturn\u001b[0m \u001b[0mself\u001b[0m\u001b[1;33m.\u001b[0m\u001b[0m_getitem_multilevel\u001b[0m\u001b[1;33m(\u001b[0m\u001b[0mkey\u001b[0m\u001b[1;33m)\u001b[0m\u001b[1;33m\u001b[0m\u001b[1;33m\u001b[0m\u001b[0m\n\u001b[1;32m-> 3458\u001b[1;33m             \u001b[0mindexer\u001b[0m \u001b[1;33m=\u001b[0m \u001b[0mself\u001b[0m\u001b[1;33m.\u001b[0m\u001b[0mcolumns\u001b[0m\u001b[1;33m.\u001b[0m\u001b[0mget_loc\u001b[0m\u001b[1;33m(\u001b[0m\u001b[0mkey\u001b[0m\u001b[1;33m)\u001b[0m\u001b[1;33m\u001b[0m\u001b[1;33m\u001b[0m\u001b[0m\n\u001b[0m\u001b[0;32m   3459\u001b[0m             \u001b[1;32mif\u001b[0m \u001b[0mis_integer\u001b[0m\u001b[1;33m(\u001b[0m\u001b[0mindexer\u001b[0m\u001b[1;33m)\u001b[0m\u001b[1;33m:\u001b[0m\u001b[1;33m\u001b[0m\u001b[1;33m\u001b[0m\u001b[0m\n\u001b[0;32m   3460\u001b[0m                 \u001b[0mindexer\u001b[0m \u001b[1;33m=\u001b[0m \u001b[1;33m[\u001b[0m\u001b[0mindexer\u001b[0m\u001b[1;33m]\u001b[0m\u001b[1;33m\u001b[0m\u001b[1;33m\u001b[0m\u001b[0m\n",
      "\u001b[1;32m~\\AppData\\Local\\Programs\\Python\\Python37\\lib\\site-packages\\pandas\\core\\indexes\\base.py\u001b[0m in \u001b[0;36mget_loc\u001b[1;34m(self, key, method, tolerance)\u001b[0m\n\u001b[0;32m   3361\u001b[0m                 \u001b[1;32mreturn\u001b[0m \u001b[0mself\u001b[0m\u001b[1;33m.\u001b[0m\u001b[0m_engine\u001b[0m\u001b[1;33m.\u001b[0m\u001b[0mget_loc\u001b[0m\u001b[1;33m(\u001b[0m\u001b[0mcasted_key\u001b[0m\u001b[1;33m)\u001b[0m\u001b[1;33m\u001b[0m\u001b[1;33m\u001b[0m\u001b[0m\n\u001b[0;32m   3362\u001b[0m             \u001b[1;32mexcept\u001b[0m \u001b[0mKeyError\u001b[0m \u001b[1;32mas\u001b[0m \u001b[0merr\u001b[0m\u001b[1;33m:\u001b[0m\u001b[1;33m\u001b[0m\u001b[1;33m\u001b[0m\u001b[0m\n\u001b[1;32m-> 3363\u001b[1;33m                 \u001b[1;32mraise\u001b[0m \u001b[0mKeyError\u001b[0m\u001b[1;33m(\u001b[0m\u001b[0mkey\u001b[0m\u001b[1;33m)\u001b[0m \u001b[1;32mfrom\u001b[0m \u001b[0merr\u001b[0m\u001b[1;33m\u001b[0m\u001b[1;33m\u001b[0m\u001b[0m\n\u001b[0m\u001b[0;32m   3364\u001b[0m \u001b[1;33m\u001b[0m\u001b[0m\n\u001b[0;32m   3365\u001b[0m         \u001b[1;32mif\u001b[0m \u001b[0mis_scalar\u001b[0m\u001b[1;33m(\u001b[0m\u001b[0mkey\u001b[0m\u001b[1;33m)\u001b[0m \u001b[1;32mand\u001b[0m \u001b[0misna\u001b[0m\u001b[1;33m(\u001b[0m\u001b[0mkey\u001b[0m\u001b[1;33m)\u001b[0m \u001b[1;32mand\u001b[0m \u001b[1;32mnot\u001b[0m \u001b[0mself\u001b[0m\u001b[1;33m.\u001b[0m\u001b[0mhasnans\u001b[0m\u001b[1;33m:\u001b[0m\u001b[1;33m\u001b[0m\u001b[1;33m\u001b[0m\u001b[0m\n",
      "\u001b[1;31mKeyError\u001b[0m: 'Total Active Power/kW）'"
     ]
    },
    {
     "data": {
      "image/png": "[encoded data removed]",
      "text/plain": [
       "<Figure size 1080x864 with 4 Axes>"
      ]
     },
     "metadata": {
      "needs_background": "light"
     },
     "output_type": "display_data"
    }
   ],
   "source": [
    "#use different type of ffill\n",
    "f, ax = plt.subplots(nrows=4, ncols=1, figsize=(15, 12))\n",
    "\n",
    "sns.lineplot(x=df['date'], y=df['Total Active Power/kW'], ax=ax[0])\n",
    "sns.lineplot(x=df['date'], y=df['Total Active Power/kW）'].fillna(np.inf), ax=ax[0], color='dodgerblue', label = 'original')\n",
    "ax[0].set_title('Fill NaN with 0', fontsize=14)\n",
    "ax[0].set_ylabel(ylabel='Volume', fontsize=14)\n",
    "\n",
    "mean_drainage = df['Total Active Power/kW'].mean()\n",
    "sns.lineplot(x=df['date'], y=df['Total Active Power/kW'].fillna(mean_drainage), ax=ax[1], color='darkorange', label = 'modified')\n",
    "sns.lineplot(x=df['date'], y=df['Total Active Power/kW'].fillna(np.inf), ax=ax[1], color='dodgerblue', label = 'original')\n",
    "ax[1].set_title(f'Fill NaN with Mean Value ({mean_drainage:.0f})', fontsize=14)\n",
    "ax[1].set_ylabel(ylabel='Volume', fontsize=14)\n",
    "\n",
    "sns.lineplot(x=df['date'], y=df['Total Active Power/kW'].ffill(), ax=ax[2], color='darkorange', label = 'modified')\n",
    "sns.lineplot(x=df['date'], y=df['Total Active Power/kW'].fillna(np.inf), ax=ax[2], color='dodgerblue', label = 'original')\n",
    "ax[2].set_title(f'FFill', fontsize=14)\n",
    "ax[2].set_ylabel(ylabel='Volume', fontsize=14)\n",
    "\n",
    "sns.lineplot(x=df['date'], y=df['Total Active Power/kW'].interpolate(), ax=ax[3], color='darkorange', label = 'modified')\n",
    "sns.lineplot(x=df['date'], y=df['Total Active Power/kW'].fillna(np.inf), ax=ax[3], color='dodgerblue', label = 'original')\n",
    "ax[3].set_title(f'Interpolate', fontsize=14)\n",
    "ax[3].set_ylabel(ylabel='Volume', fontsize=14)\n",
    "\n",
    "for i in range(4):\n",
    "    ax[i].set_xlim([date(2018, 1, 1), date(2021, 12, 6)])\n",
    "    \n",
    "plt.tight_layout()\n",
    "plt.show()"
   ]
  },
  {
   "cell_type": "code",
   "execution_count": null,
   "metadata": {},
   "outputs": [],
   "source": [
    "#use interpolate\n",
    "df['Total Active Power/kW'] = df['Total Active Power/kW'].interpolate()"
   ]
  },
  {
   "cell_type": "markdown",
   "metadata": {},
   "source": [
    "# Visualization"
   ]
  },
  {
   "cell_type": "code",
   "execution_count": null,
   "metadata": {},
   "outputs": [],
   "source": [
    "from statsmodels.tsa.seasonal import seasonal_decompose"
   ]
  },
  {
   "cell_type": "code",
   "execution_count": null,
   "metadata": {},
   "outputs": [],
   "source": [
    "#df.head()\n",
    "df['date'] = pd.to_datetime(df['date'])\n",
    "total_active = df['Total Active Power/kW']\n",
    "decomposition = seasonal_decompose(total_active, model='multiplicative', period = 100)\n",
    "fig = decomposition.plot()\n",
    "fig.set_figwidth(12)\n",
    "fig.set_figheight(8)\n",
    "fig.suptitle('Decomposition of multiplicative time series')\n",
    "plt.show()"
   ]
  },
  {
   "cell_type": "markdown",
   "metadata": {},
   "source": [
    "# Resampling"
   ]
  },
  {
   "cell_type": "markdown",
   "metadata": {},
   "source": [
    "Test if downsample can help."
   ]
  },
  {
   "cell_type": "code",
   "execution_count": null,
   "metadata": {},
   "outputs": [],
   "source": [
    "fig, ax = plt.subplots(ncols=1, nrows=3, sharex=True, figsize=(16,8))\n",
    "\n",
    "sns.lineplot(df['date'], df['Total Active Power/kW'], color='dodgerblue', ax=ax[0])\n",
    "ax[0].set_title('Total Active Power/kw', fontsize=14)\n",
    "\n",
    "#resample处理时间序列数据专用，前两列是要选出来的列，1D是指间隔1D resample一次，必须on date\n",
    "#resampled_df = df[['date','总有功功率（kw）']].resample('1D', on='date').sum().reset_index(drop=False)\n",
    "\n",
    "resampled_df = df[['date','Total Active Power/kW']].resample('7D', on='date').sum().reset_index(drop=False)\n",
    "sns.lineplot(resampled_df['date'], resampled_df['Total Active Power/kW'], color='dodgerblue', ax=ax[1])\n",
    "ax[1].set_title('Weekly Total Active Power/kw', fontsize=14)\n",
    "resampled_df = df[['date','Total Active Power/kW']].resample('1M', on='date').sum().reset_index(drop=False)\n",
    "sns.lineplot(resampled_df['date'], resampled_df['Total Active Power/kW'], color='dodgerblue', ax=ax[2])\n",
    "ax[2].set_title('Monthly Total Active Power/kw', fontsize=14)\n",
    "for i in range(3):\n",
    "    ax[i].set_xlim([date(2018, 1, 1), date(2021, 12, 6)])\n"
   ]
  },
  {
   "cell_type": "markdown",
   "metadata": {},
   "source": [
    "As we can see, downsample to weekly could smooth the data and help with analysis."
   ]
  },
  {
   "cell_type": "code",
   "execution_count": null,
   "metadata": {},
   "outputs": [],
   "source": [
    "#准备downsample到1m\n",
    "downsample = df[['date',\n",
    "                 'Total Active Power/kW', \n",
    "                ]].resample('7D', on='date').mean().reset_index(drop=False)"
   ]
  },
  {
   "cell_type": "code",
   "execution_count": null,
   "metadata": {},
   "outputs": [],
   "source": [
    "#plt.plot(downsample)\n",
    "#plt.show()\n",
    "downsample"
   ]
  },
  {
   "cell_type": "markdown",
   "metadata": {},
   "source": [
    "# Stationarity test"
   ]
  },
  {
   "cell_type": "markdown",
   "metadata": {},
   "source": [
    "In this part we will guarantee that this time series is stationarity. First we will plot the TS and check if there is a trend or seasonality."
   ]
  },
  {
   "cell_type": "code",
   "execution_count": null,
   "metadata": {},
   "outputs": [],
   "source": [
    "fig, axes = plt.subplots(2, 2, sharey=False, sharex=False)\n",
    "fig.set_figwidth(14)\n",
    "fig.set_figheight(8)\n",
    "axes[0][0].plot(downsample['date'], downsample['Total Active Power/kW'], label='Original')\n",
    "axes[0][0].plot(downsample['date'], downsample['Total Active Power/kW'].rolling(window=4).mean(), label='4-Months Rolling Mean')\n",
    "axes[0][0].set_xlabel(\"Years\")\n",
    "axes[0][0].set_ylabel(\"Total Active Power/kW\")\n",
    "axes[0][0].set_title(\"4-Weeks Moving Average\")\n",
    "axes[0][0].legend(loc='best')\n",
    "axes[0][1].plot(downsample['date'], downsample['Total Active Power/kW'], label='Original')\n",
    "axes[0][1].plot(downsample['date'], downsample['Total Active Power/kW'].rolling(window=24).mean(), label='6-Months Rolling Mean')\n",
    "axes[0][1].set_xlabel(\"Years\")\n",
    "axes[0][1].set_ylabel(\"Total Active Power/kW\")\n",
    "axes[0][1].set_title(\"24-Weeks Moving Average\")\n",
    "axes[0][1].legend(loc='best')\n",
    "axes[1][0].plot(downsample['date'], downsample['Total Active Power/kW'], label='Original')\n",
    "axes[1][0].plot(downsample['date'], downsample['Total Active Power/kW'].rolling(window=48).mean(), label='8-Months Rolling Mean')\n",
    "axes[1][0].set_xlabel(\"Years\")\n",
    "axes[1][0].set_ylabel(\"Total Active Power/kW\")\n",
    "axes[1][0].set_title(\"48 Moving Average\")\n",
    "axes[1][0].legend(loc='best')\n",
    "axes[1][1].plot(downsample['date'], downsample['Total Active Power/kW'], label='Original')\n",
    "axes[1][1].plot(downsample['date'], downsample['Total Active Power/kW'].rolling(window=52).mean(), label='12-Months Rolling Mean')\n",
    "axes[1][1].set_xlabel(\"Years\")\n",
    "axes[1][1].set_ylabel(\"Total Active Power/kW\")\n",
    "axes[1][1].set_title(\"52-Weeks Moving Average\")\n",
    "axes[1][1].legend(loc='best')\n",
    "plt.tight_layout()\n",
    "plt.show()"
   ]
  },
  {
   "cell_type": "markdown",
   "metadata": {},
   "source": [
    "In the plot, it seems that the total active power follows a cycle of approximately 2 days, but there is still a rapid dive near 2018-1-11, thus we cannot conclude that this TS is stationary. Besides, the rolling standard deviation is also non-constant. \n",
    "\n",
    "Now we will run the ADF test on the timeseries and verify the null hypothesis that the time series is non-stationary."
   ]
  },
  {
   "cell_type": "code",
   "execution_count": null,
   "metadata": {},
   "outputs": [],
   "source": [
    "from statsmodels.tsa.stattools import adfuller\n",
    "\n",
    "result = adfuller(df['Total Active Power/kW'].values)\n",
    "dfoutput = pd.Series(result[0:4], index=['Test Statistic', 'p-value', '#lags Used', 'Number of Observations Used'])\n",
    "for key, value in result[4].items():\n",
    "    dfoutput['Critical Value (%s)'%key] = value\n",
    "print(dfoutput)"
   ]
  },
  {
   "cell_type": "markdown",
   "metadata": {},
   "source": []
  },
  {
   "cell_type": "markdown",
   "metadata": {},
   "source": [
    "# Transform"
   ]
  },
  {
   "cell_type": "markdown",
   "metadata": {},
   "source": [
    "We log transform the data to make it stationary on variance"
   ]
  },
  {
   "cell_type": "code",
   "execution_count": null,
   "metadata": {},
   "outputs": [],
   "source": [
    "df['Total Active Power/kW_log'] = np.log(abs(df['Total Active Power/kW']))\n",
    "\n",
    "f, ax = plt.subplots(nrows=1, ncols=2, figsize=(20, 6))\n",
    "visualize_adfuller_results(df['Total Active Power/kW_log'], 'Transformed', ax[0])\n",
    "\n",
    "sns.distplot(df['Total Active Power/kW_log'], ax=ax[1])"
   ]
  },
  {
   "cell_type": "markdown",
   "metadata": {},
   "source": [
    "We will use first order differencing to make data stationary on mean."
   ]
  },
  {
   "cell_type": "code",
   "execution_count": null,
   "metadata": {},
   "outputs": [],
   "source": [
    "# First Order Differencing based on log\n",
    "ts_diff = np.diff(df['Total Active Power/kW_log'])\n",
    "df['Total Active Power/kW_diff_1'] = np.append([0], ts_diff)"
   ]
  },
  {
   "cell_type": "code",
   "execution_count": null,
   "metadata": {},
   "outputs": [],
   "source": [
    "result_diff = adfuller(df['Total Active Power/kW）_diff_1'].values)\n",
    "#df['总有功功率（kw）_diff_1']\n",
    "dfoutput_diff = pd.Series(result_diff[0:4], index=['Test Statistic', 'p-value', '#lags Used', 'Number of Observations Used'])\n",
    "for key, value in result_diff[4].items():\n",
    "    dfoutput['Critical Value (%s)'%key] = value\n",
    "print(dfoutput_diff)\n",
    "\n",
    "#seems fair so the i part of ARIMA = 1; first differencing is enough\n",
    "#i=1"
   ]
  },
  {
   "cell_type": "markdown",
   "metadata": {},
   "source": [
    "# Identify potential AR and MA model\n",
    "Now the data is stationary on both mean and variance, we can create autocorrelation factor (ACF) and partial autocorrelation factor (PACF) plots to identify patterns in the above data.\n",
    "The seasonality is Relatively constant"
   ]
  },
  {
   "cell_type": "markdown",
   "metadata": {},
   "source": [
    "# Self-correlation"
   ]
  },
  {
   "cell_type": "code",
   "execution_count": null,
   "metadata": {},
   "outputs": [],
   "source": [
    "from statsmodels.graphics.tsaplots import plot_acf\n",
    "from statsmodels.graphics.tsaplots import plot_pacf\n",
    "\n",
    "f, ax = plt.subplots(nrows=2, ncols=1, figsize=(16, 8))\n",
    "\n",
    "plot_acf(df['总有功功率（kw）_diff_1'], lags=50, ax=ax[0])\n",
    "plot_pacf(df['总有功功率（kw）_diff_1'], lags=50, ax=ax[1])\n",
    "\n",
    "plt.show()"
   ]
  },
  {
   "cell_type": "raw",
   "metadata": {},
   "source": [
    "We will take p=1, q=12. In this way our ARIMA model is determined as ARIMA(1, 1, 12)"
   ]
  },
  {
   "cell_type": "markdown",
   "metadata": {},
   "source": [
    "# Univariate Time Series Model"
   ]
  },
  {
   "cell_type": "code",
   "execution_count": null,
   "metadata": {},
   "outputs": [],
   "source": [
    "train_size = int(0.85 * len(df))\n",
    "test_size = len(df) - train_size\n",
    "df = df.fillna(0)\n",
    "univariate_df = df[['date', '总有功功率（kw）']].copy()\n",
    "univariate_df.columns = ['ds', 'Total Active Power']\n",
    "univariate_df['ds'] = pd.to_datetime(univariate_df['ds'])\n",
    "df1 = univariate_df.set_index('ds', inplace = True)\n",
    "train = univariate_df.iloc[480:train_size, :]\n",
    "test = univariate_df.iloc[train_size:, :]\n",
    "#train.set_index('ds')\n",
    "#test.set_index('ds')\n",
    "#x_train, y_train = pd.DataFrame(univariate_df.iloc[:train_size, 0]), pd.DataFrame(univariate_df.iloc[:train_size, 1])\n",
    "#x_valid, y_valid = pd.DataFrame(univariate_df.iloc[train_size:, 0]), pd.DataFrame(univariate_df.iloc[train_size:, 1])\n",
    "\n",
    "#print(len(train), len(x_valid))"
   ]
  },
  {
   "cell_type": "code",
   "execution_count": null,
   "metadata": {},
   "outputs": [],
   "source": [
    "train_size1 = int(0.85 * len(downsample))\n",
    "test_size1 = len(downsample) - train_size\n",
    "#downsample.columns = ['ds', 'Total Active Power']\n",
    "#downsample['date'] = pd.to_datetime(downsample['date'])\n",
    "downsample1 = downsample.set_index('date')\n",
    "train1 = downsample1.iloc[48:train_size1, :]\n",
    "test1 = downsample1.iloc[train_size1:, :]"
   ]
  },
  {
   "cell_type": "code",
   "execution_count": null,
   "metadata": {},
   "outputs": [],
   "source": [
    "y2 = pd.DataFrame(univariate_df['Total Active Power'])\n",
    "y3 = pd.DataFrame(df['总有功功率（kw）'])\n",
    "#y2.plot()"
   ]
  },
  {
   "cell_type": "markdown",
   "metadata": {},
   "source": [
    "# ARIMA"
   ]
  },
  {
   "cell_type": "code",
   "execution_count": null,
   "metadata": {},
   "outputs": [],
   "source": [
    "\n",
    "from statsmodels.tsa.arima.model import ARIMA\n",
    "import warnings\n",
    "warnings.filterwarnings('ignore')"
   ]
  },
  {
   "cell_type": "code",
   "execution_count": null,
   "metadata": {},
   "outputs": [],
   "source": [
    "model = sm.tsa.statespace.SARIMAX(\n",
    "    train1, \n",
    "    order=(1, 0, 2),\n",
    "    seasonal_order=(1, 1, 2, 15)\n",
    ").fit()"
   ]
  },
  {
   "cell_type": "code",
   "execution_count": null,
   "metadata": {},
   "outputs": [],
   "source": [
    "# Seasonal - fit stepwise auto-ARIMA\n",
    "'''\n",
    "import pmdarima as pm\n",
    "SARIMA_model = pm.auto_arima(train, start_p=1, start_q=1,\n",
    "                         test='adf',\n",
    "                         max_p=2, max_q=2, \n",
    "                         m=24, #12 is the frequncy of the cycle\n",
    "                         start_P=0, \n",
    "                         seasonal=True, #set to seasonal\n",
    "                         d=None, \n",
    "                         D=1, #order of the seasonal differencing\n",
    "                         trace=False,\n",
    "                         error_action='ignore',  \n",
    "                         suppress_warnings=True, \n",
    "                         stepwise=True)\n",
    "'''"
   ]
  },
  {
   "cell_type": "code",
   "execution_count": null,
   "metadata": {},
   "outputs": [],
   "source": [
    "model.summary()"
   ]
  },
  {
   "cell_type": "code",
   "execution_count": null,
   "metadata": {},
   "outputs": [],
   "source": [
    "model.plot_diagnostics()\n"
   ]
  },
  {
   "cell_type": "code",
   "execution_count": null,
   "metadata": {},
   "outputs": [],
   "source": [
    "prediction = pd.DataFrame(model.predict(start = '2021-05-10', end = '2021-12-06'), index = test1.index)\n",
    "prediction.columns = ['predicted']\n",
    "#prediction"
   ]
  },
  {
   "cell_type": "code",
   "execution_count": null,
   "metadata": {},
   "outputs": [],
   "source": [
    "forecast = pd.DataFrame(model.predict(start = '2021-12-13', end = '2022-3-30'))\n",
    "#forecast1 = pd.DataFrame(model.get_forecast(start = '2021-12-13', end = '2022-3-30', alpha = 0.05))"
   ]
  },
  {
   "cell_type": "code",
   "execution_count": null,
   "metadata": {},
   "outputs": [],
   "source": [
    "#train"
   ]
  },
  {
   "cell_type": "code",
   "execution_count": null,
   "metadata": {},
   "outputs": [],
   "source": [
    "plt.plot(training1, label = 'Training')\n",
    "plt.plot(test1, label = 'Test')\n",
    "plt.plot(prediction, label = \"Predicted\")\n",
    "plt.legend(loc ='best')\n",
    "plt.show()"
   ]
  },
  {
   "cell_type": "markdown",
   "metadata": {},
   "source": [
    "# Using the ARIMA model to forecast\n"
   ]
  },
  {
   "cell_type": "code",
   "execution_count": null,
   "metadata": {},
   "outputs": [],
   "source": [
    "from statsmodels.graphics.tsaplots import plot_predict\n",
    "fig, ax = plt.subplots()\n",
    "ax = downsample1['2018-01':].plot(ax=ax)\n",
    "plot_predict(model, start = '2021-12-13', end = '2022-3-30', dynamic = True, ax=ax, plot_insample=False)\n",
    "ax.set_xlabel('Date', fontsize=14)\n",
    "ax.set_ylabel('Total Active Power/kW', fontsize=14)\n",
    "plt.show()"
   ]
  }
 ],
 "metadata": {
  "interpreter": {
   "hash": "2fc9f0689f2f32664301ce51aaed3853cc1802bb7b4d4a74b41993575fbadbc0"
  },
  "kernelspec": {
   "display_name": "Python 3",
   "language": "python",
   "name": "python3"
  },
  "language_info": {
   "codemirror_mode": {
    "name": "ipython",
    "version": 3
   },
   "file_extension": ".py",
   "mimetype": "text/x-python",
   "name": "python",
   "nbconvert_exporter": "python",
   "pygments_lexer": "ipython3",
   "version": "3.8.8"
  },
  "vp": {
   "base_numbering": 1,
   "nav_menu": {},
   "number_sections": true,
   "sideBar": true,
   "title_cell": "VisualPython",
   "title_sidebar": "VisualPython",
   "vpPosition": {
    "height": "calc(100% - 180px)",
    "right": "10px",
    "top": "110px",
    "width": "50%"
   },
   "vp_cell": false,
   "vp_section_display": true,
   "vp_window_display": false
  }
 },
 "nbformat": 4,
 "nbformat_minor": 4
}
